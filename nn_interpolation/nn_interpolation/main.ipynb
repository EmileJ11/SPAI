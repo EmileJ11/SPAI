{
 "cells": [
  {
   "cell_type": "code",
   "execution_count": 47,
   "metadata": {},
   "outputs": [],
   "source": [
    "import numpy as np\n",
    "import pandas as pd\n",
    "import tensorflow as tf\n",
    "import sklearn\n",
    "from scipy.io import loadmat\n",
    "from keras.models import Sequential\n",
    "from keras.layers import Dense, LSTM\n",
    "from keras.regularizers import l2\n",
    "from keras.callbacks import EarlyStopping, ModelCheckpoint, ReduceLROnPlateau\n",
    "from sklearn.model_selection import train_test_split\n",
    "from sklearn.preprocessing import MinMaxScaler\n",
    "from keras.models import load_model\n",
    "from sklearn.metrics import mean_absolute_error, mean_squared_error"
   ]
  },
  {
   "cell_type": "code",
   "execution_count": 48,
   "metadata": {},
   "outputs": [],
   "source": [
    "doa_data = loadmat('C:\\Users\\jnema\\mat_files\\DOA.mat')['DOA']\n",
    "pressure_data = loadmat('C:\\Users\\jnema\\mat_files\\pressure.mat')['P']"
   ]
  },
  {
   "cell_type": "code",
   "execution_count": 49,
   "metadata": {},
   "outputs": [
    {
     "name": "stdout",
     "output_type": "stream",
     "text": [
      "CSV files created successfully.\n"
     ]
    }
   ],
   "source": [
    "n_points = 12\n",
    "n_samples = 900  \n",
    "time_interval = 60 / 48000  \n",
    "\n",
    "for point in range(1, n_points + 1):\n",
    "    time_values = [(i + 1) * time_interval for i in range(n_samples)]\n",
    "\n",
    "    df = pd.DataFrame({\n",
    "        'speaker': [point] * n_samples,\n",
    "        'time': time_values\n",
    "    })\n",
    "\n",
    "    df.to_csv(f'dataset/point_{point}.csv', index=False, header=False)\n",
    "\n",
    "print(\"CSV files created successfully.\")"
   ]
  },
  {
   "cell_type": "code",
   "execution_count": 50,
   "metadata": {},
   "outputs": [
    {
     "data": {
      "text/plain": [
       "900"
      ]
     },
     "execution_count": 50,
     "metadata": {},
     "output_type": "execute_result"
    }
   ],
   "source": [
    "for point in range(1, n_points + 1):\n",
    "    # Read the existing CSV file\n",
    "    df = pd.read_csv(f'dataset/point_{point}.csv', header=None)\n",
    "\n",
    "    doa_scaler = MinMaxScaler()\n",
    "    pressure_scaler = MinMaxScaler()\n",
    "\n",
    "    normalized_doa_data = doa_scaler.fit_transform(doa_data[point - 1][0])\n",
    "    normalized_pressure_data = pressure_scaler.fit_transform(pressure_data[point - 1][0])\n",
    "\n",
    "    normalized_doa_data_selected = normalized_doa_data[::500]\n",
    "    normalized_pressure_data_selected = normalized_pressure_data[::500]\n",
    "    \n",
    "    combined_data = np.concatenate([normalized_doa_data_selected, normalized_pressure_data_selected], axis=1)\n",
    "\n",
    "\n",
    "    df[['x', 'y', 'z', 'pressure']] = combined_data\n",
    "\n",
    "    # Save the DataFrame back to the CSV file without a header\n",
    "    df.to_csv(f'dataset/point_{point}.csv', index=False, header=False)\n",
    "\n",
    "len(df)"
   ]
  },
  {
   "cell_type": "code",
   "execution_count": 51,
   "metadata": {},
   "outputs": [
    {
     "data": {
      "text/html": [
       "<div>\n",
       "<style scoped>\n",
       "    .dataframe tbody tr th:only-of-type {\n",
       "        vertical-align: middle;\n",
       "    }\n",
       "\n",
       "    .dataframe tbody tr th {\n",
       "        vertical-align: top;\n",
       "    }\n",
       "\n",
       "    .dataframe thead th {\n",
       "        text-align: right;\n",
       "    }\n",
       "</style>\n",
       "<table border=\"1\" class=\"dataframe\">\n",
       "  <thead>\n",
       "    <tr style=\"text-align: right;\">\n",
       "      <th></th>\n",
       "      <th>point</th>\n",
       "      <th>time</th>\n",
       "      <th>x</th>\n",
       "      <th>y</th>\n",
       "      <th>z</th>\n",
       "      <th>pressure</th>\n",
       "    </tr>\n",
       "  </thead>\n",
       "  <tbody>\n",
       "    <tr>\n",
       "      <th>count</th>\n",
       "      <td>10800.000000</td>\n",
       "      <td>10800.000000</td>\n",
       "      <td>10800.000000</td>\n",
       "      <td>10800.000000</td>\n",
       "      <td>10800.000000</td>\n",
       "      <td>10800.000000</td>\n",
       "    </tr>\n",
       "    <tr>\n",
       "      <th>mean</th>\n",
       "      <td>6.500000</td>\n",
       "      <td>0.563125</td>\n",
       "      <td>0.682425</td>\n",
       "      <td>0.682321</td>\n",
       "      <td>0.711622</td>\n",
       "      <td>0.565566</td>\n",
       "    </tr>\n",
       "    <tr>\n",
       "      <th>std</th>\n",
       "      <td>3.452212</td>\n",
       "      <td>0.324774</td>\n",
       "      <td>0.210680</td>\n",
       "      <td>0.246109</td>\n",
       "      <td>0.183734</td>\n",
       "      <td>0.025682</td>\n",
       "    </tr>\n",
       "    <tr>\n",
       "      <th>min</th>\n",
       "      <td>1.000000</td>\n",
       "      <td>0.001250</td>\n",
       "      <td>0.000463</td>\n",
       "      <td>0.000014</td>\n",
       "      <td>0.001623</td>\n",
       "      <td>0.456896</td>\n",
       "    </tr>\n",
       "    <tr>\n",
       "      <th>25%</th>\n",
       "      <td>3.750000</td>\n",
       "      <td>0.282187</td>\n",
       "      <td>0.618343</td>\n",
       "      <td>0.602028</td>\n",
       "      <td>0.675558</td>\n",
       "      <td>0.546104</td>\n",
       "    </tr>\n",
       "    <tr>\n",
       "      <th>50%</th>\n",
       "      <td>6.500000</td>\n",
       "      <td>0.563125</td>\n",
       "      <td>0.758584</td>\n",
       "      <td>0.771828</td>\n",
       "      <td>0.771407</td>\n",
       "      <td>0.571330</td>\n",
       "    </tr>\n",
       "    <tr>\n",
       "      <th>75%</th>\n",
       "      <td>9.250000</td>\n",
       "      <td>0.844062</td>\n",
       "      <td>0.812151</td>\n",
       "      <td>0.839507</td>\n",
       "      <td>0.807540</td>\n",
       "      <td>0.582231</td>\n",
       "    </tr>\n",
       "    <tr>\n",
       "      <th>max</th>\n",
       "      <td>12.000000</td>\n",
       "      <td>1.125000</td>\n",
       "      <td>0.999555</td>\n",
       "      <td>0.999978</td>\n",
       "      <td>0.999972</td>\n",
       "      <td>0.644846</td>\n",
       "    </tr>\n",
       "  </tbody>\n",
       "</table>\n",
       "</div>"
      ],
      "text/plain": [
       "              point          time  ...             z      pressure\n",
       "count  10800.000000  10800.000000  ...  10800.000000  10800.000000\n",
       "mean       6.500000      0.563125  ...      0.711622      0.565566\n",
       "std        3.452212      0.324774  ...      0.183734      0.025682\n",
       "min        1.000000      0.001250  ...      0.001623      0.456896\n",
       "25%        3.750000      0.282187  ...      0.675558      0.546104\n",
       "50%        6.500000      0.563125  ...      0.771407      0.571330\n",
       "75%        9.250000      0.844062  ...      0.807540      0.582231\n",
       "max       12.000000      1.125000  ...      0.999972      0.644846\n",
       "\n",
       "[8 rows x 6 columns]"
      ]
     },
     "execution_count": 51,
     "metadata": {},
     "output_type": "execute_result"
    }
   ],
   "source": [
    "n_points_to_concatenate = 12\n",
    "\n",
    "# List to hold DataFrames\n",
    "dfs = []\n",
    "\n",
    "for point in range(1, n_points_to_concatenate + 1):\n",
    "    # Read each CSV file\n",
    "    df = pd.read_csv(f'dataset/point_{point}.csv', header=None, names=['point', 'time', 'x', 'y', 'z', 'pressure'])\n",
    "    dfs.append(df)\n",
    "\n",
    "# Concatenate all DataFrames\n",
    "concatenated_df = pd.concat(dfs, ignore_index=True)\n",
    "\n",
    "concatenated_df.describe()\n"
   ]
  },
  {
   "cell_type": "code",
   "execution_count": 52,
   "metadata": {},
   "outputs": [
    {
     "name": "stdout",
     "output_type": "stream",
     "text": [
      "point    10.000\n",
      "time      1.125\n",
      "Name: 8999, dtype: float64\n",
      "point    12.000\n",
      "time      1.125\n",
      "Name: 10799, dtype: float64\n"
     ]
    }
   ],
   "source": [
    "X = concatenated_df.loc[:8999,['point', 'time']]  # Features\n",
    "y = concatenated_df.loc[:8999, ['x', 'y', 'z', 'pressure']]  # Target variable\n",
    "X_test = concatenated_df.loc[9000:10800,['point', 'time']]  # Features\n",
    "y_test = concatenated_df.loc[9000:10800, ['x', 'y', 'z', 'pressure']]  # Target variable\n",
    "\n",
    "print(X.iloc[8999])\n",
    "print(X_test.iloc[1799])"
   ]
  },
  {
   "cell_type": "code",
   "execution_count": 53,
   "metadata": {},
   "outputs": [],
   "source": [
    "def create_sequences(X, y, time_steps):\n",
    "    Xs, ys = [], []\n",
    "    for i in range(int(len(X) / time_steps)):\n",
    "        Xs.append(X.iloc[i:(i + time_steps)].values)\n",
    "        ys.append(y.iloc[i:(i + time_steps)].values)  # Ensure that ys is also a sequence\n",
    "    return np.array(Xs), np.array(ys)"
   ]
  },
  {
   "cell_type": "code",
   "execution_count": 54,
   "metadata": {},
   "outputs": [
    {
     "name": "stdout",
     "output_type": "stream",
     "text": [
      "(10, 900, 2)\n",
      "(10, 900, 4)\n",
      "(2, 900, 2)\n",
      "(2, 900, 4)\n"
     ]
    }
   ],
   "source": [
    "# Creating sequences\n",
    "X, y = create_sequences(X, y, time_steps=900)\n",
    "X_test, y_test = create_sequences(X_test, y_test, time_steps=900)\n",
    "# Now X_train_seq has the shape (samples, time_steps, n_features)\n",
    "print(X.shape)\n",
    "print(y.shape)\n",
    "print(X_test.shape)\n",
    "print(y_test.shape)"
   ]
  },
  {
   "cell_type": "code",
   "execution_count": 55,
   "metadata": {},
   "outputs": [
    {
     "name": "stdout",
     "output_type": "stream",
     "text": [
      "X_train shape: (8, 900, 2)\n",
      "y_train shape: (8, 900, 4)\n",
      "X_valid shape: (2, 900, 2)\n",
      "y_valid shape: (2, 900, 4)\n"
     ]
    }
   ],
   "source": [
    "X_train, X_valid, y_train, y_valid = train_test_split(X, \n",
    "                                                  y, \n",
    "                                                  test_size= 0.2,\n",
    "                                                  random_state=42)\n",
    "print(\"X_train shape:\", X_train.shape)\n",
    "print(\"y_train shape:\", y_train.shape)\n",
    "print(\"X_valid shape:\", X_valid.shape)\n",
    "print(\"y_valid shape:\", y_valid.shape)"
   ]
  },
  {
   "cell_type": "code",
   "execution_count": 56,
   "metadata": {},
   "outputs": [
    {
     "name": "stdout",
     "output_type": "stream",
     "text": [
      "Model: \"sequential_3\"\n",
      "_________________________________________________________________\n",
      " Layer (type)                Output Shape              Param #   \n",
      "=================================================================\n",
      " dense_16 (Dense)            (None, 900, 512)          1536      \n",
      "                                                                 \n",
      " dense_17 (Dense)            (None, 900, 256)          131328    \n",
      "                                                                 \n",
      " dense_18 (Dense)            (None, 900, 128)          32896     \n",
      "                                                                 \n",
      " dense_19 (Dense)            (None, 900, 64)           8256      \n",
      "                                                                 \n",
      " dense_20 (Dense)            (None, 900, 32)           2080      \n",
      "                                                                 \n",
      " dense_21 (Dense)            (None, 900, 4)            132       \n",
      "                                                                 \n",
      "=================================================================\n",
      "Total params: 176,228\n",
      "Trainable params: 176,228\n",
      "Non-trainable params: 0\n",
      "_________________________________________________________________\n"
     ]
    }
   ],
   "source": [
    "time_steps = 900\n",
    "n_features = 2\n",
    "l2_strength = 0.01\n",
    "# Model Architecture\n",
    "model = Sequential()\n",
    "model.add(Dense(512, activation='sigmoid', input_shape=(time_steps, n_features), kernel_regularizer=l2(l2_strength)))\n",
    "\n",
    "model.add(Dense(256, activation='sigmoid', kernel_regularizer=l2(l2_strength)))\n",
    "\n",
    "model.add(Dense(128, activation='sigmoid', kernel_regularizer=l2(l2_strength)))\n",
    "\n",
    "model.add(Dense(64, activation='sigmoid', kernel_regularizer=l2(l2_strength)))\n",
    "\n",
    "model.add(Dense(32, activation='sigmoid', kernel_regularizer=l2(l2_strength)))\n",
    "\n",
    "model.add(Dense(4))  # Output layer for 4 targets\n",
    "\n",
    "model.summary()"
   ]
  },
  {
   "cell_type": "code",
   "execution_count": 57,
   "metadata": {},
   "outputs": [],
   "source": [
    "# Compile the model\n",
    "model.compile(optimizer='adam', loss='mean_squared_error', metrics=['accuracy'])\n",
    "\n",
    "# Callbacks\n",
    "early_stopping = EarlyStopping(monitor='val_loss', patience=10, verbose=1, mode='min')\n",
    "mcp_save = ModelCheckpoint('./saved/lstm_model.h5', save_best_only=True, monitor='val_accuracy', mode='auto', verbose=1)\n",
    "reduce_lr = ReduceLROnPlateau(monitor='val_loss', factor=0.5, patience=2, min_lr=0.00001)\n"
   ]
  },
  {
   "cell_type": "code",
   "execution_count": 58,
   "metadata": {},
   "outputs": [
    {
     "name": "stdout",
     "output_type": "stream",
     "text": [
      "Epoch 1/50\n",
      "1/1 [==============================] - ETA: 0s - loss: 6.9214 - accuracy: 0.3196\n",
      "Epoch 1: val_accuracy improved from -inf to 0.32000, saving model to ./saved\\lstm_model.h5\n",
      "1/1 [==============================] - 1s 1s/step - loss: 6.9214 - accuracy: 0.3196 - val_loss: 6.6820 - val_accuracy: 0.3200 - lr: 0.0010\n",
      "Epoch 2/50\n",
      "1/1 [==============================] - ETA: 0s - loss: 6.6820 - accuracy: 0.3196\n",
      "Epoch 2: val_accuracy did not improve from 0.32000\n",
      "1/1 [==============================] - 0s 128ms/step - loss: 6.6820 - accuracy: 0.3196 - val_loss: 6.4548 - val_accuracy: 0.3200 - lr: 0.0010\n",
      "Epoch 3/50\n",
      "1/1 [==============================] - ETA: 0s - loss: 6.4549 - accuracy: 0.3196\n",
      "Epoch 3: val_accuracy did not improve from 0.32000\n",
      "1/1 [==============================] - 0s 117ms/step - loss: 6.4549 - accuracy: 0.3196 - val_loss: 6.2393 - val_accuracy: 0.3200 - lr: 0.0010\n",
      "Epoch 4/50\n",
      "1/1 [==============================] - ETA: 0s - loss: 6.2393 - accuracy: 0.3196\n",
      "Epoch 4: val_accuracy did not improve from 0.32000\n",
      "1/1 [==============================] - 0s 54ms/step - loss: 6.2393 - accuracy: 0.3196 - val_loss: 6.0349 - val_accuracy: 0.3200 - lr: 0.0010\n",
      "Epoch 5/50\n",
      "1/1 [==============================] - ETA: 0s - loss: 6.0349 - accuracy: 0.3196\n",
      "Epoch 5: val_accuracy did not improve from 0.32000\n",
      "1/1 [==============================] - 0s 59ms/step - loss: 6.0349 - accuracy: 0.3196 - val_loss: 5.8412 - val_accuracy: 0.3200 - lr: 0.0010\n",
      "Epoch 6/50\n",
      "1/1 [==============================] - ETA: 0s - loss: 5.8412 - accuracy: 0.3196\n",
      "Epoch 6: val_accuracy did not improve from 0.32000\n",
      "1/1 [==============================] - 0s 55ms/step - loss: 5.8412 - accuracy: 0.3196 - val_loss: 5.6575 - val_accuracy: 0.3200 - lr: 0.0010\n",
      "Epoch 7/50\n",
      "1/1 [==============================] - ETA: 0s - loss: 5.6575 - accuracy: 0.3196\n",
      "Epoch 7: val_accuracy did not improve from 0.32000\n",
      "1/1 [==============================] - 0s 56ms/step - loss: 5.6575 - accuracy: 0.3196 - val_loss: 5.4832 - val_accuracy: 0.3200 - lr: 0.0010\n",
      "Epoch 8/50\n",
      "1/1 [==============================] - ETA: 0s - loss: 5.4832 - accuracy: 0.3196\n",
      "Epoch 8: val_accuracy did not improve from 0.32000\n",
      "1/1 [==============================] - 0s 60ms/step - loss: 5.4832 - accuracy: 0.3196 - val_loss: 5.3176 - val_accuracy: 0.3200 - lr: 0.0010\n",
      "Epoch 9/50\n",
      "1/1 [==============================] - ETA: 0s - loss: 5.3176 - accuracy: 0.3196\n",
      "Epoch 9: val_accuracy did not improve from 0.32000\n",
      "1/1 [==============================] - 0s 53ms/step - loss: 5.3176 - accuracy: 0.3196 - val_loss: 5.1599 - val_accuracy: 0.3200 - lr: 0.0010\n",
      "Epoch 10/50\n",
      "1/1 [==============================] - ETA: 0s - loss: 5.1599 - accuracy: 0.3196\n",
      "Epoch 10: val_accuracy did not improve from 0.32000\n",
      "1/1 [==============================] - 0s 114ms/step - loss: 5.1599 - accuracy: 0.3196 - val_loss: 5.0094 - val_accuracy: 0.3200 - lr: 0.0010\n",
      "Epoch 11/50\n",
      "1/1 [==============================] - ETA: 0s - loss: 5.0094 - accuracy: 0.3196\n",
      "Epoch 11: val_accuracy did not improve from 0.32000\n",
      "1/1 [==============================] - 0s 83ms/step - loss: 5.0094 - accuracy: 0.3196 - val_loss: 4.8654 - val_accuracy: 0.3200 - lr: 0.0010\n",
      "Epoch 12/50\n",
      "1/1 [==============================] - ETA: 0s - loss: 4.8655 - accuracy: 0.3196\n",
      "Epoch 12: val_accuracy did not improve from 0.32000\n",
      "1/1 [==============================] - 0s 56ms/step - loss: 4.8655 - accuracy: 0.3196 - val_loss: 4.7273 - val_accuracy: 0.3200 - lr: 0.0010\n",
      "Epoch 13/50\n",
      "1/1 [==============================] - ETA: 0s - loss: 4.7273 - accuracy: 0.3196\n",
      "Epoch 13: val_accuracy did not improve from 0.32000\n",
      "1/1 [==============================] - 0s 82ms/step - loss: 4.7273 - accuracy: 0.3196 - val_loss: 4.5944 - val_accuracy: 0.3200 - lr: 0.0010\n",
      "Epoch 14/50\n",
      "1/1 [==============================] - ETA: 0s - loss: 4.5944 - accuracy: 0.3196\n",
      "Epoch 14: val_accuracy did not improve from 0.32000\n",
      "1/1 [==============================] - 0s 57ms/step - loss: 4.5944 - accuracy: 0.3196 - val_loss: 4.4662 - val_accuracy: 0.1628 - lr: 0.0010\n",
      "Epoch 15/50\n",
      "1/1 [==============================] - ETA: 0s - loss: 4.4662 - accuracy: 0.1626\n",
      "Epoch 15: val_accuracy did not improve from 0.32000\n",
      "1/1 [==============================] - 0s 73ms/step - loss: 4.4662 - accuracy: 0.1626 - val_loss: 4.3421 - val_accuracy: 0.1628 - lr: 0.0010\n",
      "Epoch 16/50\n",
      "1/1 [==============================] - ETA: 0s - loss: 4.3421 - accuracy: 0.1626\n",
      "Epoch 16: val_accuracy did not improve from 0.32000\n",
      "1/1 [==============================] - 0s 112ms/step - loss: 4.3421 - accuracy: 0.1626 - val_loss: 4.2217 - val_accuracy: 0.1628 - lr: 0.0010\n",
      "Epoch 17/50\n",
      "1/1 [==============================] - ETA: 0s - loss: 4.2217 - accuracy: 0.1626\n",
      "Epoch 17: val_accuracy did not improve from 0.32000\n",
      "1/1 [==============================] - 0s 90ms/step - loss: 4.2217 - accuracy: 0.1626 - val_loss: 4.1047 - val_accuracy: 0.1628 - lr: 0.0010\n",
      "Epoch 18/50\n",
      "1/1 [==============================] - ETA: 0s - loss: 4.1047 - accuracy: 0.1626\n",
      "Epoch 18: val_accuracy did not improve from 0.32000\n",
      "1/1 [==============================] - 0s 73ms/step - loss: 4.1047 - accuracy: 0.1626 - val_loss: 3.9908 - val_accuracy: 0.1628 - lr: 0.0010\n",
      "Epoch 19/50\n",
      "1/1 [==============================] - ETA: 0s - loss: 3.9908 - accuracy: 0.1626\n",
      "Epoch 19: val_accuracy did not improve from 0.32000\n",
      "1/1 [==============================] - 0s 55ms/step - loss: 3.9908 - accuracy: 0.1626 - val_loss: 3.8797 - val_accuracy: 0.1628 - lr: 0.0010\n",
      "Epoch 20/50\n",
      "1/1 [==============================] - ETA: 0s - loss: 3.8797 - accuracy: 0.1626\n",
      "Epoch 20: val_accuracy did not improve from 0.32000\n",
      "1/1 [==============================] - 0s 86ms/step - loss: 3.8797 - accuracy: 0.1626 - val_loss: 3.7714 - val_accuracy: 0.1628 - lr: 0.0010\n",
      "Epoch 21/50\n",
      "1/1 [==============================] - ETA: 0s - loss: 3.7714 - accuracy: 0.1626\n",
      "Epoch 21: val_accuracy did not improve from 0.32000\n",
      "1/1 [==============================] - 0s 56ms/step - loss: 3.7714 - accuracy: 0.1626 - val_loss: 3.6657 - val_accuracy: 0.1628 - lr: 0.0010\n",
      "Epoch 22/50\n",
      "1/1 [==============================] - ETA: 0s - loss: 3.6657 - accuracy: 0.1626\n",
      "Epoch 22: val_accuracy did not improve from 0.32000\n",
      "1/1 [==============================] - 0s 117ms/step - loss: 3.6657 - accuracy: 0.1626 - val_loss: 3.5626 - val_accuracy: 0.1628 - lr: 0.0010\n",
      "Epoch 23/50\n",
      "1/1 [==============================] - ETA: 0s - loss: 3.5626 - accuracy: 0.1626\n",
      "Epoch 23: val_accuracy did not improve from 0.32000\n",
      "1/1 [==============================] - 0s 78ms/step - loss: 3.5626 - accuracy: 0.1626 - val_loss: 3.4620 - val_accuracy: 0.1628 - lr: 0.0010\n",
      "Epoch 24/50\n",
      "1/1 [==============================] - ETA: 0s - loss: 3.4620 - accuracy: 0.1626\n",
      "Epoch 24: val_accuracy did not improve from 0.32000\n",
      "1/1 [==============================] - 0s 65ms/step - loss: 3.4620 - accuracy: 0.1626 - val_loss: 3.3640 - val_accuracy: 0.1628 - lr: 0.0010\n",
      "Epoch 25/50\n",
      "1/1 [==============================] - ETA: 0s - loss: 3.3640 - accuracy: 0.1626\n",
      "Epoch 25: val_accuracy did not improve from 0.32000\n",
      "1/1 [==============================] - 0s 73ms/step - loss: 3.3640 - accuracy: 0.1626 - val_loss: 3.2685 - val_accuracy: 0.1628 - lr: 0.0010\n",
      "Epoch 26/50\n",
      "1/1 [==============================] - ETA: 0s - loss: 3.2685 - accuracy: 0.1626\n",
      "Epoch 26: val_accuracy did not improve from 0.32000\n",
      "1/1 [==============================] - 0s 81ms/step - loss: 3.2685 - accuracy: 0.1626 - val_loss: 3.1755 - val_accuracy: 0.1628 - lr: 0.0010\n",
      "Epoch 27/50\n",
      "1/1 [==============================] - ETA: 0s - loss: 3.1755 - accuracy: 0.1626\n",
      "Epoch 27: val_accuracy did not improve from 0.32000\n",
      "1/1 [==============================] - 0s 80ms/step - loss: 3.1755 - accuracy: 0.1626 - val_loss: 3.0851 - val_accuracy: 0.1628 - lr: 0.0010\n",
      "Epoch 28/50\n",
      "1/1 [==============================] - ETA: 0s - loss: 3.0851 - accuracy: 0.1626\n",
      "Epoch 28: val_accuracy did not improve from 0.32000\n",
      "1/1 [==============================] - 0s 88ms/step - loss: 3.0851 - accuracy: 0.1626 - val_loss: 2.9972 - val_accuracy: 0.1628 - lr: 0.0010\n",
      "Epoch 29/50\n",
      "1/1 [==============================] - ETA: 0s - loss: 2.9972 - accuracy: 0.1626\n",
      "Epoch 29: val_accuracy improved from 0.32000 to 0.46722, saving model to ./saved\\lstm_model.h5\n",
      "1/1 [==============================] - 0s 159ms/step - loss: 2.9972 - accuracy: 0.1626 - val_loss: 2.9119 - val_accuracy: 0.4672 - lr: 0.0010\n",
      "Epoch 30/50\n",
      "1/1 [==============================] - ETA: 0s - loss: 2.9119 - accuracy: 0.4678\n",
      "Epoch 30: val_accuracy did not improve from 0.46722\n",
      "1/1 [==============================] - 0s 77ms/step - loss: 2.9119 - accuracy: 0.4678 - val_loss: 2.8290 - val_accuracy: 0.4672 - lr: 0.0010\n",
      "Epoch 31/50\n",
      "1/1 [==============================] - ETA: 0s - loss: 2.8290 - accuracy: 0.4678\n",
      "Epoch 31: val_accuracy did not improve from 0.46722\n",
      "1/1 [==============================] - 0s 75ms/step - loss: 2.8290 - accuracy: 0.4678 - val_loss: 2.7487 - val_accuracy: 0.4672 - lr: 0.0010\n",
      "Epoch 32/50\n",
      "1/1 [==============================] - ETA: 0s - loss: 2.7487 - accuracy: 0.4678\n",
      "Epoch 32: val_accuracy did not improve from 0.46722\n",
      "1/1 [==============================] - 0s 75ms/step - loss: 2.7487 - accuracy: 0.4678 - val_loss: 2.6708 - val_accuracy: 0.4672 - lr: 0.0010\n",
      "Epoch 33/50\n",
      "1/1 [==============================] - ETA: 0s - loss: 2.6708 - accuracy: 0.4678\n",
      "Epoch 33: val_accuracy did not improve from 0.46722\n",
      "1/1 [==============================] - 0s 125ms/step - loss: 2.6708 - accuracy: 0.4678 - val_loss: 2.5953 - val_accuracy: 0.4672 - lr: 0.0010\n",
      "Epoch 34/50\n",
      "1/1 [==============================] - ETA: 0s - loss: 2.5953 - accuracy: 0.4678\n",
      "Epoch 34: val_accuracy did not improve from 0.46722\n",
      "1/1 [==============================] - 0s 83ms/step - loss: 2.5953 - accuracy: 0.4678 - val_loss: 2.5221 - val_accuracy: 0.4672 - lr: 0.0010\n",
      "Epoch 35/50\n",
      "1/1 [==============================] - ETA: 0s - loss: 2.5221 - accuracy: 0.4678\n",
      "Epoch 35: val_accuracy did not improve from 0.46722\n",
      "1/1 [==============================] - 0s 91ms/step - loss: 2.5221 - accuracy: 0.4678 - val_loss: 2.4513 - val_accuracy: 0.4672 - lr: 0.0010\n",
      "Epoch 36/50\n",
      "1/1 [==============================] - ETA: 0s - loss: 2.4513 - accuracy: 0.4678\n",
      "Epoch 36: val_accuracy did not improve from 0.46722\n",
      "1/1 [==============================] - 0s 82ms/step - loss: 2.4513 - accuracy: 0.4678 - val_loss: 2.3827 - val_accuracy: 0.4672 - lr: 0.0010\n",
      "Epoch 37/50\n",
      "1/1 [==============================] - ETA: 0s - loss: 2.3827 - accuracy: 0.4678\n",
      "Epoch 37: val_accuracy did not improve from 0.46722\n",
      "1/1 [==============================] - 0s 82ms/step - loss: 2.3827 - accuracy: 0.4678 - val_loss: 2.3162 - val_accuracy: 0.4672 - lr: 0.0010\n",
      "Epoch 38/50\n",
      "1/1 [==============================] - ETA: 0s - loss: 2.3162 - accuracy: 0.4678\n",
      "Epoch 38: val_accuracy did not improve from 0.46722\n",
      "1/1 [==============================] - 0s 124ms/step - loss: 2.3162 - accuracy: 0.4678 - val_loss: 2.2517 - val_accuracy: 0.4672 - lr: 0.0010\n",
      "Epoch 39/50\n",
      "1/1 [==============================] - ETA: 0s - loss: 2.2517 - accuracy: 0.4678\n",
      "Epoch 39: val_accuracy did not improve from 0.46722\n",
      "1/1 [==============================] - 0s 98ms/step - loss: 2.2517 - accuracy: 0.4678 - val_loss: 2.1893 - val_accuracy: 0.3200 - lr: 0.0010\n",
      "Epoch 40/50\n",
      "1/1 [==============================] - ETA: 0s - loss: 2.1893 - accuracy: 0.3196\n",
      "Epoch 40: val_accuracy did not improve from 0.46722\n",
      "1/1 [==============================] - 0s 83ms/step - loss: 2.1893 - accuracy: 0.3196 - val_loss: 2.1288 - val_accuracy: 0.3200 - lr: 0.0010\n",
      "Epoch 41/50\n",
      "1/1 [==============================] - ETA: 0s - loss: 2.1288 - accuracy: 0.3196\n",
      "Epoch 41: val_accuracy did not improve from 0.46722\n",
      "1/1 [==============================] - 0s 79ms/step - loss: 2.1288 - accuracy: 0.3196 - val_loss: 2.0702 - val_accuracy: 0.3200 - lr: 0.0010\n",
      "Epoch 42/50\n",
      "1/1 [==============================] - ETA: 0s - loss: 2.0702 - accuracy: 0.3196\n",
      "Epoch 42: val_accuracy did not improve from 0.46722\n",
      "1/1 [==============================] - 0s 94ms/step - loss: 2.0702 - accuracy: 0.3196 - val_loss: 2.0133 - val_accuracy: 0.3200 - lr: 0.0010\n",
      "Epoch 43/50\n",
      "1/1 [==============================] - ETA: 0s - loss: 2.0134 - accuracy: 0.3196\n",
      "Epoch 43: val_accuracy did not improve from 0.46722\n",
      "1/1 [==============================] - 0s 114ms/step - loss: 2.0134 - accuracy: 0.3196 - val_loss: 1.9583 - val_accuracy: 0.3200 - lr: 0.0010\n",
      "Epoch 44/50\n",
      "1/1 [==============================] - ETA: 0s - loss: 1.9583 - accuracy: 0.3196\n",
      "Epoch 44: val_accuracy did not improve from 0.46722\n",
      "1/1 [==============================] - 0s 99ms/step - loss: 1.9583 - accuracy: 0.3196 - val_loss: 1.9049 - val_accuracy: 0.3200 - lr: 0.0010\n",
      "Epoch 45/50\n",
      "1/1 [==============================] - ETA: 0s - loss: 1.9049 - accuracy: 0.3196\n",
      "Epoch 45: val_accuracy did not improve from 0.46722\n",
      "1/1 [==============================] - 0s 84ms/step - loss: 1.9049 - accuracy: 0.3196 - val_loss: 1.8531 - val_accuracy: 0.3200 - lr: 0.0010\n",
      "Epoch 46/50\n",
      "1/1 [==============================] - ETA: 0s - loss: 1.8531 - accuracy: 0.3196\n",
      "Epoch 46: val_accuracy did not improve from 0.46722\n",
      "1/1 [==============================] - 0s 84ms/step - loss: 1.8531 - accuracy: 0.3196 - val_loss: 1.8029 - val_accuracy: 0.3200 - lr: 0.0010\n",
      "Epoch 47/50\n",
      "1/1 [==============================] - ETA: 0s - loss: 1.8029 - accuracy: 0.3196\n",
      "Epoch 47: val_accuracy did not improve from 0.46722\n",
      "1/1 [==============================] - 0s 97ms/step - loss: 1.8029 - accuracy: 0.3196 - val_loss: 1.7542 - val_accuracy: 0.3200 - lr: 0.0010\n",
      "Epoch 48/50\n",
      "1/1 [==============================] - ETA: 0s - loss: 1.7543 - accuracy: 0.3196\n",
      "Epoch 48: val_accuracy did not improve from 0.46722\n",
      "1/1 [==============================] - 0s 88ms/step - loss: 1.7543 - accuracy: 0.3196 - val_loss: 1.7071 - val_accuracy: 0.3200 - lr: 0.0010\n",
      "Epoch 49/50\n",
      "1/1 [==============================] - ETA: 0s - loss: 1.7071 - accuracy: 0.3196\n",
      "Epoch 49: val_accuracy did not improve from 0.46722\n",
      "1/1 [==============================] - 0s 87ms/step - loss: 1.7071 - accuracy: 0.3196 - val_loss: 1.6614 - val_accuracy: 0.3200 - lr: 0.0010\n",
      "Epoch 50/50\n",
      "1/1 [==============================] - ETA: 0s - loss: 1.6614 - accuracy: 0.3196\n",
      "Epoch 50: val_accuracy did not improve from 0.46722\n",
      "1/1 [==============================] - 0s 98ms/step - loss: 1.6614 - accuracy: 0.3196 - val_loss: 1.6171 - val_accuracy: 0.3200 - lr: 0.0010\n"
     ]
    }
   ],
   "source": [
    "# Training the Model\n",
    "history = model.fit(X_train, y_train, epochs=50, batch_size=512, verbose=1, validation_data=[X_valid, y_valid], callbacks=[early_stopping, mcp_save, reduce_lr])"
   ]
  },
  {
   "cell_type": "code",
   "execution_count": 59,
   "metadata": {},
   "outputs": [],
   "source": [
    "model = load_model('./saved/lstm_model.h5')"
   ]
  },
  {
   "cell_type": "code",
   "execution_count": 60,
   "metadata": {},
   "outputs": [
    {
     "name": "stdout",
     "output_type": "stream",
     "text": [
      "1/1 [==============================] - 0s 207ms/step\n",
      "<class 'numpy.ndarray'>\n",
      "<class 'numpy.ndarray'>\n",
      "(2, 900, 4)\n",
      "(2, 900, 4)\n"
     ]
    }
   ],
   "source": [
    "predictions = model.predict(X_test)\n",
    "print(type(predictions))\n",
    "print(type(y_test))\n",
    "print(predictions.shape)\n",
    "print(y_test.shape)"
   ]
  },
  {
   "cell_type": "code",
   "execution_count": 61,
   "metadata": {},
   "outputs": [],
   "source": [
    "y_test = y_test.reshape(-1, 4)\n",
    "predictions = predictions.reshape(-1, 4)"
   ]
  },
  {
   "cell_type": "code",
   "execution_count": 62,
   "metadata": {},
   "outputs": [
    {
     "name": "stdout",
     "output_type": "stream",
     "text": [
      "NaNs in y_test: 0\n",
      "NaNs in predictions: 0\n"
     ]
    }
   ],
   "source": [
    "nan_indices_y_test = np.isnan(y_test)\n",
    "nan_indices_predictions = np.isnan(predictions)\n",
    "\n",
    "print(\"NaNs in y_test:\", np.sum(nan_indices_y_test))\n",
    "print(\"NaNs in predictions:\", np.sum(nan_indices_predictions))"
   ]
  },
  {
   "cell_type": "code",
   "execution_count": 63,
   "metadata": {},
   "outputs": [
    {
     "name": "stdout",
     "output_type": "stream",
     "text": [
      "Mean Absolute Error (MAE): 0.1416753081917788\n",
      "Mean Squared Error (MSE): 0.037907353267914466\n",
      "[[0.54329053 0.12816405 0.16846877 0.57439567]\n",
      " [0.41320724 0.8685161  0.82658195 0.58828469]\n",
      " [0.88018872 0.35012888 0.21184088 0.60793082]\n",
      " ...\n",
      " [0.78945837 0.79800852 0.77820459 0.57451206]\n",
      " [0.77132232 0.80557342 0.78810098 0.57452327]\n",
      " [0.60027901 0.75870822 0.08402798 0.55861756]]\n",
      "[[0.6517604  0.71465945 0.7123596  0.6441049 ]\n",
      " [0.6517603  0.7146596  0.7123596  0.64410484]\n",
      " [0.6517604  0.7146595  0.7123597  0.64410496]\n",
      " ...\n",
      " [0.651757   0.71462816 0.7123835  0.6441062 ]\n",
      " [0.6517571  0.7146282  0.7123835  0.64410615]\n",
      " [0.65173864 0.7146301  0.7123978  0.64414644]]\n"
     ]
    }
   ],
   "source": [
    "mae = mean_absolute_error(y_test, predictions)\n",
    "print(\"Mean Absolute Error (MAE):\", mae)\n",
    "\n",
    "mse = mean_squared_error(y_test, predictions)\n",
    "print(\"Mean Squared Error (MSE):\", mse)\n",
    "\n",
    "print(y_test)\n",
    "print(predictions)"
   ]
  },
  {
   "cell_type": "code",
   "execution_count": null,
   "metadata": {},
   "outputs": [],
   "source": []
  }
 ],
 "metadata": {
  "kernelspec": {
   "display_name": "Python general_env",
   "language": "python",
   "name": "myenv"
  },
  "language_info": {
   "codemirror_mode": {
    "name": "ipython",
    "version": 3
   },
   "file_extension": ".py",
   "mimetype": "text/x-python",
   "name": "python",
   "nbconvert_exporter": "python",
   "pygments_lexer": "ipython3",
   "version": "3.10.13"
  }
 },
 "nbformat": 4,
 "nbformat_minor": 2
}
